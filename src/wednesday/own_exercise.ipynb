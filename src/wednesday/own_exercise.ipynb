{
 "cells": [
  {
   "cell_type": "markdown",
   "source": [
    "Clustering and regression exercise\n",
    "- Data from oil reservoir\n",
    "    - Load numpy arrays with P-velocity and Porosity\n",
    "\n",
    "    - Do data normalization\n",
    "\n",
    "    - Cluster data Vp-porosity\n",
    "\n",
    "    - Extract clusters\n",
    "\n",
    "    - Perform regression"
   ],
   "metadata": {
    "collapsed": false,
    "pycharm": {
     "name": "#%% md\n"
    }
   }
  },
  {
   "cell_type": "code",
   "execution_count": 109,
   "outputs": [],
   "source": [
    "import numpy as np\n",
    "import matplotlib.pyplot as plt\n",
    "import pandas as pd\n",
    "from sklearn.linear_model import LinearRegression\n",
    "from sklearn.preprocessing import PolynomialFeatures\n",
    "from sklearn.pipeline import make_pipeline"
   ],
   "metadata": {
    "collapsed": false,
    "pycharm": {
     "name": "#%%\n"
    }
   }
  },
  {
   "cell_type": "code",
   "execution_count": 110,
   "outputs": [
    {
     "data": {
      "text/plain": "         poro        Vp\n0      0.0388  3.627783\n1      0.0812  3.274807\n2      0.2513  2.577231\n3      0.1015  3.099823\n4      0.0529  3.523676\n...       ...       ...\n74966  0.0496  3.537857\n74967  0.1002  3.130548\n74968  0.0859  3.273773\n74969  0.1195  2.994949\n74970  0.0516  3.527674\n\n[74971 rows x 2 columns]",
      "text/html": "<div>\n<style scoped>\n    .dataframe tbody tr th:only-of-type {\n        vertical-align: middle;\n    }\n\n    .dataframe tbody tr th {\n        vertical-align: top;\n    }\n\n    .dataframe thead th {\n        text-align: right;\n    }\n</style>\n<table border=\"1\" class=\"dataframe\">\n  <thead>\n    <tr style=\"text-align: right;\">\n      <th></th>\n      <th>poro</th>\n      <th>Vp</th>\n    </tr>\n  </thead>\n  <tbody>\n    <tr>\n      <th>0</th>\n      <td>0.0388</td>\n      <td>3.627783</td>\n    </tr>\n    <tr>\n      <th>1</th>\n      <td>0.0812</td>\n      <td>3.274807</td>\n    </tr>\n    <tr>\n      <th>2</th>\n      <td>0.2513</td>\n      <td>2.577231</td>\n    </tr>\n    <tr>\n      <th>3</th>\n      <td>0.1015</td>\n      <td>3.099823</td>\n    </tr>\n    <tr>\n      <th>4</th>\n      <td>0.0529</td>\n      <td>3.523676</td>\n    </tr>\n    <tr>\n      <th>...</th>\n      <td>...</td>\n      <td>...</td>\n    </tr>\n    <tr>\n      <th>74966</th>\n      <td>0.0496</td>\n      <td>3.537857</td>\n    </tr>\n    <tr>\n      <th>74967</th>\n      <td>0.1002</td>\n      <td>3.130548</td>\n    </tr>\n    <tr>\n      <th>74968</th>\n      <td>0.0859</td>\n      <td>3.273773</td>\n    </tr>\n    <tr>\n      <th>74969</th>\n      <td>0.1195</td>\n      <td>2.994949</td>\n    </tr>\n    <tr>\n      <th>74970</th>\n      <td>0.0516</td>\n      <td>3.527674</td>\n    </tr>\n  </tbody>\n</table>\n<p>74971 rows × 2 columns</p>\n</div>"
     },
     "execution_count": 110,
     "metadata": {},
     "output_type": "execute_result"
    }
   ],
   "source": [
    "Vp = np.load('vp.npy')\n",
    "poro = np.load('porosity.npy')\n",
    "\n",
    "feature_vectors = pd.DataFrame(data={'poro': poro, 'Vp': Vp})\n",
    "feature_vectors"
   ],
   "metadata": {
    "collapsed": false,
    "pycharm": {
     "name": "#%%\n"
    }
   }
  },
  {
   "cell_type": "code",
   "execution_count": 111,
   "outputs": [
    {
     "data": {
      "text/plain": "<matplotlib.collections.PathCollection at 0x28889ae03d0>"
     },
     "execution_count": 111,
     "metadata": {},
     "output_type": "execute_result"
    },
    {
     "data": {
      "text/plain": "<Figure size 432x288 with 1 Axes>",
      "image/png": "[encoded data removed]"
     },
     "metadata": {
      "needs_background": "light"
     },
     "output_type": "display_data"
    }
   ],
   "source": [
    "plt.scatter(poro, Vp)"
   ],
   "metadata": {
    "collapsed": false,
    "pycharm": {
     "name": "#%%\n"
    }
   }
  },
  {
   "cell_type": "markdown",
   "source": [
    "Normalization"
   ],
   "metadata": {
    "collapsed": false,
    "pycharm": {
     "name": "#%% md\n"
    }
   }
  },
  {
   "cell_type": "code",
   "execution_count": 112,
   "outputs": [],
   "source": [
    "from sklearn import preprocessing\n",
    "\n",
    "scaler = preprocessing.StandardScaler().fit(feature_vectors)\n",
    "scaled_feature_vectors = scaler.transform(feature_vectors)"
   ],
   "metadata": {
    "collapsed": false,
    "pycharm": {
     "name": "#%%\n"
    }
   }
  },
  {
   "cell_type": "code",
   "execution_count": 113,
   "outputs": [
    {
     "data": {
      "text/plain": "74971"
     },
     "execution_count": 113,
     "metadata": {},
     "output_type": "execute_result"
    },
    {
     "data": {
      "text/plain": "<Figure size 432x288 with 1 Axes>",
      "image/png": "[encoded data removed]"
     },
     "metadata": {
      "needs_background": "light"
     },
     "output_type": "display_data"
    }
   ],
   "source": [
    "plt.scatter(scaled_feature_vectors[:,0], scaled_feature_vectors[:,1])\n",
    "len(scaled_feature_vectors[:,1])"
   ],
   "metadata": {
    "collapsed": false,
    "pycharm": {
     "name": "#%%\n"
    }
   }
  },
  {
   "cell_type": "markdown",
   "source": [
    "Clustering"
   ],
   "metadata": {
    "collapsed": false,
    "pycharm": {
     "name": "#%% md\n"
    }
   }
  },
  {
   "cell_type": "code",
   "execution_count": 114,
   "outputs": [
    {
     "name": "stdout",
     "output_type": "stream",
     "text": [
      "2\n"
     ]
    },
    {
     "data": {
      "text/plain": "<matplotlib.collections.PathCollection at 0x28889daf6d0>"
     },
     "execution_count": 114,
     "metadata": {},
     "output_type": "execute_result"
    },
    {
     "data": {
      "text/plain": "<Figure size 432x288 with 1 Axes>",
      "image/png": "[encoded data removed]"
     },
     "metadata": {
      "needs_background": "light"
     },
     "output_type": "display_data"
    }
   ],
   "source": [
    "# DBSCAN\n",
    "from sklearn.cluster import DBSCAN\n",
    "db = DBSCAN(eps=0.25, min_samples=10).fit(scaled_feature_vectors)\n",
    "labels_DBSCAN = db.labels_\n",
    "\n",
    "no_clusters = len(np.unique(labels_DBSCAN) )\n",
    "no_noise = np.sum(np.array(labels_DBSCAN) == -1, axis=0)\n",
    "print(no_clusters)\n",
    "\n",
    "plt.scatter(scaled_feature_vectors[:,0], scaled_feature_vectors[:,1], c=labels_DBSCAN)"
   ],
   "metadata": {
    "collapsed": false,
    "pycharm": {
     "name": "#%%\n"
    }
   }
  },
  {
   "cell_type": "code",
   "execution_count": 115,
   "outputs": [
    {
     "data": {
      "text/plain": "<matplotlib.collections.PathCollection at 0x28889dd0580>"
     },
     "execution_count": 115,
     "metadata": {},
     "output_type": "execute_result"
    },
    {
     "data": {
      "text/plain": "<Figure size 432x288 with 1 Axes>",
      "image/png": "[encoded data removed]"
     },
     "metadata": {
      "needs_background": "light"
     },
     "output_type": "display_data"
    }
   ],
   "source": [
    "# Gaussian Mixture\n",
    "from sklearn.mixture import GaussianMixture\n",
    "\n",
    "gm = GaussianMixture(n_components=2, random_state=0).fit(scaled_feature_vectors)\n",
    "gm.means_\n",
    "labels_data = gm.predict(scaled_feature_vectors)\n",
    "mask_0 = labels_data == 0\n",
    "mask_1 = labels_data == 1\n",
    "\n",
    "plt.scatter(scaled_feature_vectors[mask_0, 0], scaled_feature_vectors[mask_0, 1])\n",
    "plt.scatter(scaled_feature_vectors[mask_1, 0], scaled_feature_vectors[mask_1, 1])"
   ],
   "metadata": {
    "collapsed": false,
    "pycharm": {
     "name": "#%%\n"
    }
   }
  },
  {
   "cell_type": "code",
   "execution_count": 116,
   "outputs": [],
   "source": [
    "def regression_scikit(x_train, y_train, x_test, degree):\n",
    "    X_train=x_train[:, np.newaxis]\n",
    "    model = make_pipeline(PolynomialFeatures(degree), LinearRegression())  # model class\n",
    "    model.fit(X_train, y_train)\n",
    "    X_test=x_test[:, np.newaxis]\n",
    "    y_pred= model.predict(X_test)\n",
    "    return y_pred, model"
   ],
   "metadata": {
    "collapsed": false,
    "pycharm": {
     "name": "#%%\n"
    }
   }
  },
  {
   "cell_type": "markdown",
   "source": [
    "Regression"
   ],
   "metadata": {
    "collapsed": false,
    "pycharm": {
     "name": "#%% md\n"
    }
   }
  },
  {
   "cell_type": "code",
   "execution_count": 123,
   "outputs": [],
   "source": [
    "mask_0 = labels_DBSCAN == 0\n",
    "mask_1 = labels_DBSCAN == 1\n",
    "\n",
    "class_0_features = feature_vectors[mask_0]\n",
    "class_1_features = feature_vectors[mask_1]"
   ],
   "metadata": {
    "collapsed": false,
    "pycharm": {
     "name": "#%%\n"
    }
   }
  },
  {
   "cell_type": "code",
   "execution_count": 124,
   "outputs": [
    {
     "data": {
      "text/plain": "         poro        Vp\n0      0.0388  3.627783\n1      0.0812  3.274807\n3      0.1015  3.099823\n4      0.0529  3.523676\n5      0.0597  3.435630\n...       ...       ...\n74966  0.0496  3.537857\n74967  0.1002  3.130548\n74968  0.0859  3.273773\n74969  0.1195  2.994949\n74970  0.0516  3.527674\n\n[49646 rows x 2 columns]",
      "text/html": "<div>\n<style scoped>\n    .dataframe tbody tr th:only-of-type {\n        vertical-align: middle;\n    }\n\n    .dataframe tbody tr th {\n        vertical-align: top;\n    }\n\n    .dataframe thead th {\n        text-align: right;\n    }\n</style>\n<table border=\"1\" class=\"dataframe\">\n  <thead>\n    <tr style=\"text-align: right;\">\n      <th></th>\n      <th>poro</th>\n      <th>Vp</th>\n    </tr>\n  </thead>\n  <tbody>\n    <tr>\n      <th>0</th>\n      <td>0.0388</td>\n      <td>3.627783</td>\n    </tr>\n    <tr>\n      <th>1</th>\n      <td>0.0812</td>\n      <td>3.274807</td>\n    </tr>\n    <tr>\n      <th>3</th>\n      <td>0.1015</td>\n      <td>3.099823</td>\n    </tr>\n    <tr>\n      <th>4</th>\n      <td>0.0529</td>\n      <td>3.523676</td>\n    </tr>\n    <tr>\n      <th>5</th>\n      <td>0.0597</td>\n      <td>3.435630</td>\n    </tr>\n    <tr>\n      <th>...</th>\n      <td>...</td>\n      <td>...</td>\n    </tr>\n    <tr>\n      <th>74966</th>\n      <td>0.0496</td>\n      <td>3.537857</td>\n    </tr>\n    <tr>\n      <th>74967</th>\n      <td>0.1002</td>\n      <td>3.130548</td>\n    </tr>\n    <tr>\n      <th>74968</th>\n      <td>0.0859</td>\n      <td>3.273773</td>\n    </tr>\n    <tr>\n      <th>74969</th>\n      <td>0.1195</td>\n      <td>2.994949</td>\n    </tr>\n    <tr>\n      <th>74970</th>\n      <td>0.0516</td>\n      <td>3.527674</td>\n    </tr>\n  </tbody>\n</table>\n<p>49646 rows × 2 columns</p>\n</div>"
     },
     "execution_count": 124,
     "metadata": {},
     "output_type": "execute_result"
    }
   ],
   "source": [
    "class_0_features"
   ],
   "metadata": {
    "collapsed": false,
    "pycharm": {
     "name": "#%%\n"
    }
   }
  },
  {
   "cell_type": "code",
   "execution_count": 148,
   "outputs": [],
   "source": [
    "# split data\n",
    "from sklearn.model_selection import train_test_split\n",
    "X_train, X_test, y_train, y_test = train_test_split(np.array(class_0_features['poro']), np.array(class_0_features['Vp']), test_size=0.2, random_state=42)"
   ],
   "metadata": {
    "collapsed": false,
    "pycharm": {
     "name": "#%%\n"
    }
   }
  },
  {
   "cell_type": "code",
   "execution_count": 152,
   "outputs": [
    {
     "data": {
      "text/plain": "<matplotlib.collections.PathCollection at 0x28890fbac70>"
     },
     "execution_count": 152,
     "metadata": {},
     "output_type": "execute_result"
    },
    {
     "data": {
      "text/plain": "<Figure size 432x288 with 1 Axes>",
      "image/png": "[encoded data removed]"
     },
     "metadata": {
      "needs_background": "light"
     },
     "output_type": "display_data"
    }
   ],
   "source": [
    "norder = 2\n",
    "y_sci, model=regression_scikit(X_train, y_train, X_test,norder)\n",
    "model.score(X_train[:, np.newaxis],y_train)\n",
    "\n",
    "plt.plot(X_test, y_sci, color='k')\n",
    "plt.scatter(X_train, y_train)\n"
   ],
   "metadata": {
    "collapsed": false,
    "pycharm": {
     "name": "#%%\n"
    }
   }
  },
  {
   "cell_type": "markdown",
   "source": [],
   "metadata": {
    "collapsed": false,
    "pycharm": {
     "name": "#%% md\n"
    }
   }
  }
 ],
 "metadata": {
  "kernelspec": {
   "display_name": "Python 3",
   "language": "python",
   "name": "python3"
  },
  "language_info": {
   "codemirror_mode": {
    "name": "ipython",
    "version": 2
   },
   "file_extension": ".py",
   "mimetype": "text/x-python",
   "name": "python",
   "nbconvert_exporter": "python",
   "pygments_lexer": "ipython2",
   "version": "2.7.6"
  }
 },
 "nbformat": 4,
 "nbformat_minor": 0
}