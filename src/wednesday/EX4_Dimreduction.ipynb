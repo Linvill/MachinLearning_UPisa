{
 "cells": [
  {
   "cell_type": "code",
   "execution_count": 3,
   "id": "1db3fcb2",
   "metadata": {
    "pycharm": {
     "name": "#%%\n"
    }
   },
   "outputs": [],
   "source": [
    "from sklearn.decomposition import PCA\n",
    "import numpy as num\n",
    "import matplotlib.pyplot as plt"
   ]
  },
  {
   "cell_type": "code",
   "execution_count": 4,
   "id": "e913c374",
   "metadata": {
    "pycharm": {
     "name": "#%%\n"
    }
   },
   "outputs": [],
   "source": [
    "def gen_data(sigma_x,sigma_y,sigma_xy,n_points):\n",
    "    mean = [0, 0]\n",
    "    if sigma_xy>sigma_x or sigma_xy>sigma_y:\n",
    "        sigma_xy=num.min([sigma_x,sigma_y])\n",
    "    cov = [[sigma_x, sigma_xy], [sigma_xy, sigma_y]]\n",
    "    X = num.random.multivariate_normal(mean,cov,n_points)\n",
    "    return X"
   ]
  },
  {
   "cell_type": "code",
   "execution_count": 5,
   "id": "dcfdeaec",
   "metadata": {
    "pycharm": {
     "name": "#%%\n"
    }
   },
   "outputs": [
    {
     "data": {
      "text/plain": [
       "<matplotlib.collections.PathCollection at 0x121b8ef40>"
      ]
     },
     "execution_count": 5,
     "metadata": {},
     "output_type": "execute_result"
    },
    {
     "data": {
      "image/png": "[encoded data removed]",
      "text/plain": [
       "<Figure size 432x288 with 1 Axes>"
      ]
     },
     "metadata": {
      "needs_background": "light"
     },
     "output_type": "display_data"
    }
   ],
   "source": [
    "sigma_x=100\n",
    "sigma_y=100\n",
    "sigma_xy=99\n",
    "n_points=500\n",
    "X=gen_data(sigma_x,sigma_y,sigma_xy,n_points)\n",
    "plt.scatter(X[:,0],X[:,1])"
   ]
  },
  {
   "cell_type": "code",
   "execution_count": 6,
   "id": "f097f8b4",
   "metadata": {
    "pycharm": {
     "name": "#%%\n"
    }
   },
   "outputs": [],
   "source": [
    "def pca(X):\n",
    "    N,M=num.shape(X)\n",
    "    Cov = (1/N)*num.dot(X,X.T)\n",
    "    D,V = num.linalg.eigh(Cov)\n",
    "    D=D[num.argsort(D)]\n",
    "    V=V[:,num.argsort(D)]\n",
    "    return D,V\n",
    "\n",
    "def pca_transformation(X,ncproj):\n",
    "    X=(X - num.mean(X,axis=0)).T\n",
    "    ncomp, mcomp = num.shape(X)\n",
    "    if ncproj>ncomp:\n",
    "        ncproj=ncomp\n",
    "    D,V = pca(X)\n",
    "    V = V[:,-ncproj:]\n",
    "    D = D[-ncproj:]\n",
    "    W = num.dot(V.T,X)\n",
    "    WD = num.dot(V,W)\n",
    "    return W,WD,V"
   ]
  },
  {
   "cell_type": "code",
   "execution_count": 7,
   "id": "0408837b",
   "metadata": {
    "pycharm": {
     "name": "#%%\n"
    }
   },
   "outputs": [
    {
     "name": "stdout",
     "output_type": "stream",
     "text": [
      "[[-0.7095404 ]\n",
      " [-0.70466475]]\n"
     ]
    }
   ],
   "source": [
    "ncproj=1\n",
    "W,WD,V=pca_transformation(X,ncproj)\n",
    "print(V)"
   ]
  },
  {
   "cell_type": "code",
   "execution_count": 8,
   "id": "fb72cd5d",
   "metadata": {
    "pycharm": {
     "name": "#%%\n"
    }
   },
   "outputs": [
    {
     "data": {
      "image/png": "[encoded data removed]",
      "text/plain": [
       "<Figure size 432x288 with 1 Axes>"
      ]
     },
     "metadata": {
      "needs_background": "light"
     },
     "output_type": "display_data"
    }
   ],
   "source": [
    "if ncproj==1:\n",
    "    plt.scatter(W[0,:],num.zeros(num.size(W[0,:])))\n",
    "else:\n",
    "    plt.scatter(W[0,:],W[1,:])"
   ]
  },
  {
   "cell_type": "code",
   "execution_count": 9,
   "id": "0d34b1a1",
   "metadata": {
    "pycharm": {
     "name": "#%%\n"
    }
   },
   "outputs": [
    {
     "data": {
      "text/plain": [
       "<matplotlib.collections.PathCollection at 0x121bcc670>"
      ]
     },
     "execution_count": 9,
     "metadata": {},
     "output_type": "execute_result"
    },
    {
     "data": {
      "image/png": "[encoded data removed]",
      "text/plain": [
       "<Figure size 432x288 with 1 Axes>"
      ]
     },
     "metadata": {
      "needs_background": "light"
     },
     "output_type": "display_data"
    }
   ],
   "source": [
    "plt.scatter(W[0,:],num.zeros(num.size(W[0,:])))"
   ]
  },
  {
   "cell_type": "code",
   "execution_count": 10,
   "id": "677d5183",
   "metadata": {
    "pycharm": {
     "name": "#%%\n"
    }
   },
   "outputs": [],
   "source": [
    "if ncproj!=1:\n",
    "    plt.scatter(W[1,:],num.zeros(num.size(W[1,:])))"
   ]
  },
  {
   "cell_type": "code",
   "execution_count": 11,
   "id": "9e68b5ba",
   "metadata": {
    "pycharm": {
     "name": "#%%\n"
    }
   },
   "outputs": [
    {
     "data": {
      "text/plain": [
       "(-35.3013948583208, 32.7672192117285, -35.433206777796414, 32.28414526996025)"
      ]
     },
     "execution_count": 11,
     "metadata": {},
     "output_type": "execute_result"
    },
    {
     "data": {
      "image/png": "[encoded data removed]",
      "text/plain": [
       "<Figure size 432x288 with 1 Axes>"
      ]
     },
     "metadata": {
      "needs_background": "light"
     },
     "output_type": "display_data"
    }
   ],
   "source": [
    "plt.scatter(X[:,0],X[:,1])\n",
    "plt.scatter(WD[0,:],WD[1,:])\n",
    "if ncproj==1:\n",
    "    plt.plot([0,V[0,0]*10],[0,V[1,0]*10],'b')\n",
    "else:\n",
    "    plt.plot([0,V[0,0]*10],[0,V[0,1]*10],'b')\n",
    "    plt.plot([0,V[1,0]*10],[0,V[1,1]*10],'b')\n",
    "plt.axis('equal')"
   ]
  },
  {
   "cell_type": "code",
   "execution_count": 12,
   "id": "a293bd28",
   "metadata": {
    "pycharm": {
     "name": "#%%\n"
    }
   },
   "outputs": [
    {
     "name": "stdout",
     "output_type": "stream",
     "text": [
      "[-0.7095404]\n"
     ]
    }
   ],
   "source": [
    "pca = PCA(n_components=1)\n",
    "pca.fit(X)\n",
    "X_pca=pca.transform(X)\n",
    "#plt.scatter(X_pca[:,0],X_pca[:,1],alpha=0.2)\n",
    "#plt.xlim([-50,50])\n",
    "#plt.ylim([-30,30])\n",
    "print(pca.components_[:,0])"
   ]
  },
  {
   "cell_type": "code",
   "execution_count": 13,
   "id": "00a8707b",
   "metadata": {
    "pycharm": {
     "name": "#%%\n"
    }
   },
   "outputs": [
    {
     "data": {
      "text/plain": [
       "(-35.429909597522595, 32.7733389612143, -35.42712908053522, 32.15651362747517)"
      ]
     },
     "execution_count": 13,
     "metadata": {},
     "output_type": "execute_result"
    },
    {
     "data": {
      "image/png": "[encoded data removed]",
      "text/plain": [
       "<Figure size 432x288 with 1 Axes>"
      ]
     },
     "metadata": {
      "needs_background": "light"
     },
     "output_type": "display_data"
    }
   ],
   "source": [
    "Y=num.dot(pca.components_,X.T)\n",
    "Y=num.dot(pca.components_.T,Y)\n",
    "plt.scatter(X[:,0],X[:,1],alpha=0.2)\n",
    "plt.scatter(Y[0,:],Y[1,:])\n",
    "plt.axis('equal')"
   ]
  },
  {
   "cell_type": "code",
   "execution_count": 14,
   "id": "250213dc",
   "metadata": {
    "pycharm": {
     "name": "#%%\n"
    }
   },
   "outputs": [
    {
     "data": {
      "text/plain": [
       "(-35.17177938555965, 32.76104704635892, -35.407623923697486, 31.7469053338827)"
      ]
     },
     "execution_count": 14,
     "metadata": {},
     "output_type": "execute_result"
    },
    {
     "data": {
      "image/png": "[encoded data removed]",
      "text/plain": [
       "<Figure size 432x288 with 1 Axes>"
      ]
     },
     "metadata": {
      "needs_background": "light"
     },
     "output_type": "display_data"
    }
   ],
   "source": [
    "plt.scatter(X[:, 0], X[:, 1], alpha=0.2)\n",
    "if num.size(pca.components_)==2:\n",
    "    plt.plot([0,pca.components_[0,0]*10],[0,pca.components_[0,1]*10],'black')\n",
    "else:\n",
    "    plt.plot([0,pca.components_[0,0]*10],[0,pca.components_[0,1]*10],'black')\n",
    "    plt.plot([0,pca.components_[1,0]*10],[0,pca.components_[1,1]*10],'black')\n",
    "plt.axis('equal')"
   ]
  },
  {
   "cell_type": "code",
   "execution_count": null,
   "id": "c8156b2e",
   "metadata": {
    "pycharm": {
     "name": "#%%\n"
    }
   },
   "outputs": [],
   "source": []
  },
  {
   "cell_type": "code",
   "execution_count": null,
   "id": "05531970",
   "metadata": {
    "pycharm": {
     "name": "#%%\n"
    }
   },
   "outputs": [],
   "source": []
  }
 ],
 "metadata": {
  "kernelspec": {
   "display_name": "Python 3.8.12 ('base')",
   "language": "python",
   "name": "python3"
  },
  "language_info": {
   "codemirror_mode": {
    "name": "ipython",
    "version": 3
   },
   "file_extension": ".py",
   "mimetype": "text/x-python",
   "name": "python",
   "nbconvert_exporter": "python",
   "pygments_lexer": "ipython3",
   "version": "3.9.12"
  },
  "vscode": {
   "interpreter": {
    "hash": "f3d621fa4f9a80e16284b7d623305a9e7ae666c8ef4ce18ce6e557cf80b4b6ac"
   }
  }
 },
 "nbformat": 4,
 "nbformat_minor": 5
}