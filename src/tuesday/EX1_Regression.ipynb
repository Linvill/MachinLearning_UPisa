{
 "cells": [
  {
   "cell_type": "markdown",
   "id": "17a2786f",
   "metadata": {
    "ipub": {
     "Regression": {
      "author": "Francesco Grigoli",
      "email": "francesco.grigoli@unipi.it",
      "institution": "University of Pisa, Italy",
      "title": "Regression"
     }
    },
    "slideshow": {
     "slide_type": "-"
    },
    "pycharm": {
     "name": "#%% md\n"
    }
   },
   "source": [
    "# Regression\n",
    "Practical of the course \"Introduction to Machine Learning in Geophysics\" held dy Dr. Francesco Grigoli within the MSc in Exploration and Applied Geophysics at the University of Pisa, Italy. This is a practical on the linear and polynomial regression.\n",
    "Within this practical you will:\n",
    "- Generate synthetic training and test datasets\n",
    "- Apply different regression models to the data and evalute their performance\n",
    "- Use the scikit-learn library for simple regression problems"
   ]
  },
  {
   "cell_type": "markdown",
   "id": "f052dd67",
   "metadata": {
    "pycharm": {
     "name": "#%% md\n"
    }
   },
   "source": [
    "## Loading required libraries\n",
    "We will use numpy and matplotlib for data generation, manipulation and visualization.\n",
    "Scikit-learn is the library we will use to solve our regression problem"
   ]
  },
  {
   "cell_type": "code",
   "execution_count": 116,
   "id": "e08f8f97",
   "metadata": {
    "pycharm": {
     "name": "#%%\n"
    }
   },
   "outputs": [],
   "source": [
    "import numpy as num\n",
    "import matplotlib.pyplot as plt\n",
    "from sklearn.linear_model import LinearRegression\n",
    "from sklearn.preprocessing import PolynomialFeatures\n",
    "from sklearn.pipeline import make_pipeline"
   ]
  },
  {
   "cell_type": "markdown",
   "id": "c9ae3c33",
   "metadata": {
    "pycharm": {
     "name": "#%% md\n"
    }
   },
   "source": [
    "## Data Generation\n",
    "We first define a set of utility functions that will help us in generating the data"
   ]
  },
  {
   "cell_type": "code",
   "execution_count": 117,
   "id": "08b9e421",
   "metadata": {
    "pycharm": {
     "name": "#%%\n"
    }
   },
   "outputs": [],
   "source": [
    "def gen_data(x_min,x_max,n_points,noise_lev,ev_func):\n",
    "    x=gen_input(x_min,x_max,n_points)\n",
    "    y=gen_output(x,noise_lev,ev_func)\n",
    "    return x,y\n",
    "\n",
    "def gen_input(xmin,xmax,n_points):\n",
    "    x_obs=xmin+num.random.rand(n_points)*(xmax-xmin)\n",
    "    x_obs=num.sort(x_obs)\n",
    "    return x_obs\n",
    "\n",
    "def gen_output(x_obs,noise_lev,ev_func):\n",
    "    y_obs=ev_func(x_obs)\n",
    "    dy=gen_uncert(y_obs,noise_lev)\n",
    "    return y_obs+dy\n",
    "\n",
    "def gen_uncert(y_obs,noise_lev):\n",
    "    dy=noise_lev*((2*num.random.rand(num.size(y_obs))-1)*num.mean(num.abs(y_obs)))\n",
    "    return dy\n",
    "\n",
    "def randindx(data_size,split_size):\n",
    "    ind_x=num.array([])\n",
    "    while num.size(ind_x)<split_size:\n",
    "        jndx=num.random.randint(0,data_size,size=split_size-num.size(ind_x))\n",
    "        ind_x=num.concatenate((ind_x,num.unique(jndx)))\n",
    "    ind_x=ind_x.astype(int)\n",
    "    return ind_x\n",
    "\n",
    "def training_test_split(x_obs,y_obs,s_ratio=0.5):\n",
    "    data_size=num.size(x_obs)\n",
    "    split_size=int(data_size*s_ratio)\n",
    "    ind_x=randindx(data_size,split_size)\n",
    "    x_train,y_train=num.take(x_obs,ind_x),num.take(y_obs,ind_x)\n",
    "    x_test,y_test=num.delete(x_obs,ind_x),num.delete(y_obs,ind_x)\n",
    "    return x_train, y_train, x_test, y_test\n",
    "    \n"
   ]
  },
  {
   "cell_type": "markdown",
   "id": "cd3ab77c",
   "metadata": {
    "pycharm": {
     "name": "#%% md\n"
    }
   },
   "source": [
    "We use the function **gen_data** to generate our synthetic dataset"
   ]
  },
  {
   "cell_type": "code",
   "execution_count": 118,
   "id": "723cdb3d",
   "metadata": {
    "pycharm": {
     "name": "#%%\n"
    }
   },
   "outputs": [],
   "source": [
    "x_min=-20\n",
    "x_max=20\n",
    "n_points=500\n",
    "noise_lev=0.1\n",
    "ev_func=lambda x: 1/(1+num.exp(-10*x)) # x+2*num.cos(2*x)\n",
    "x_obs,y_obs=gen_data(x_min,x_max,n_points,noise_lev,ev_func)"
   ]
  },
  {
   "cell_type": "markdown",
   "id": "980e4fda",
   "metadata": {
    "pycharm": {
     "name": "#%% md\n"
    }
   },
   "source": [
    "Let us split our data in *training* and *test* data and plot them"
   ]
  },
  {
   "cell_type": "code",
   "execution_count": 119,
   "id": "3f1ae0ff",
   "metadata": {
    "pycharm": {
     "name": "#%%\n"
    }
   },
   "outputs": [
    {
     "data": {
      "text/plain": "<Figure size 432x288 with 1 Axes>",
      "image/png": "[encoded data removed]"
     },
     "metadata": {
      "needs_background": "light"
     },
     "output_type": "display_data"
    }
   ],
   "source": [
    "x_train, y_train, x_test, y_test=training_test_split(x_obs,y_obs,s_ratio=0.75)\n",
    "plt.scatter(x_train, y_train, color='#FF7F7F', marker='o', label='train')\n",
    "plt.scatter(x_test, y_test, color='#7F7FFF', marker='o', label='test')\n",
    "plt.legend()\n",
    "plt.show()\n",
    "# we see that the test dataset is representative of the training dataset"
   ]
  },
  {
   "cell_type": "markdown",
   "id": "5c9fef1b",
   "metadata": {
    "pycharm": {
     "name": "#%% md\n"
    }
   },
   "source": [
    "## Regression\n",
    "Here we define the functions needed for regression"
   ]
  },
  {
   "cell_type": "code",
   "execution_count": 120,
   "id": "8baff06e",
   "metadata": {
    "pycharm": {
     "name": "#%%\n"
    }
   },
   "outputs": [],
   "source": [
    "def poly_regression(x_train, y_train, norder): # general inverse\n",
    "    G=genmat(x_train,norder)\n",
    "    GG=num.dot(G.T,G)\n",
    "    Ginv=num.linalg.inv(GG)\n",
    "    m=num.dot((num.dot(Ginv,G.T)),y_train)\n",
    "    return m #  return the modelparamters\n",
    "\n",
    "def genmat(x,norder):\n",
    "    G=num.zeros([num.size(x),1+norder])\n",
    "    for i in range(0,norder+1):\n",
    "        G[:,i]= x**(i+1)\n",
    "    G[:,-1]= 1\n",
    "    return G  # G matrix, dependent on the order you input\n",
    "\n",
    "def regression_scikit(x_train, y_train, x_test, degree):\n",
    "    X_train=x_train[:, num.newaxis]\n",
    "    model = make_pipeline(PolynomialFeatures(degree), LinearRegression())  # model class\n",
    "    model.fit(X_train, y_train)\n",
    "    X_test=x_test[:, num.newaxis]\n",
    "    y_pred= model.predict(X_test)\n",
    "    return y_pred, model"
   ]
  },
  {
   "cell_type": "markdown",
   "id": "f190fc92",
   "metadata": {
    "pycharm": {
     "name": "#%% md\n"
    }
   },
   "source": [
    "Solve the regression problem using the \"home-made function\" *poly_regression* and the scikit-learn library"
   ]
  },
  {
   "cell_type": "code",
   "execution_count": 121,
   "id": "68a0daaf",
   "metadata": {
    "pycharm": {
     "name": "#%%\n"
    }
   },
   "outputs": [],
   "source": [
    "norder=10\n",
    "m_lsq=poly_regression(x_train,y_train,norder)\n",
    "xmat=genmat(x_test,norder)\n",
    "y_lsq=num.dot(m_lsq,xmat.T)\n",
    "y_sci,model=regression_scikit(x_train,y_train,x_test,norder)"
   ]
  },
  {
   "cell_type": "markdown",
   "id": "8653e47f",
   "metadata": {
    "pycharm": {
     "name": "#%% md\n"
    }
   },
   "source": [
    "Plotting the results"
   ]
  },
  {
   "cell_type": "code",
   "execution_count": 122,
   "id": "b6e29350",
   "metadata": {
    "pycharm": {
     "name": "#%%\n"
    }
   },
   "outputs": [
    {
     "data": {
      "text/plain": "[<matplotlib.lines.Line2D at 0x23f76ad42e0>]"
     },
     "execution_count": 122,
     "metadata": {},
     "output_type": "execute_result"
    },
    {
     "data": {
      "text/plain": "<Figure size 432x288 with 1 Axes>",
      "image/png": "[encoded data removed]"
     },
     "metadata": {
      "needs_background": "light"
     },
     "output_type": "display_data"
    }
   ],
   "source": [
    "plt.scatter(x_train, y_train, color='#FF7F7F', marker='o',alpha=0.5)\n",
    "plt.scatter(x_test, y_test, color='#7F7FFF', marker='o',alpha=0.5)\n",
    "plt.plot(x_test,y_lsq, color='white',linewidth=5)\n",
    "plt.plot(x_test,y_sci, color='black', linestyle='dashed', linewidth=5)"
   ]
  },
  {
   "cell_type": "markdown",
   "id": "059e0d3b",
   "metadata": {
    "pycharm": {
     "name": "#%% md\n"
    }
   },
   "source": [
    "Calculate the Mean Squared Error (MSE)"
   ]
  },
  {
   "cell_type": "code",
   "execution_count": 123,
   "id": "3185a80d",
   "metadata": {
    "pycharm": {
     "name": "#%%\n"
    }
   },
   "outputs": [
    {
     "name": "stdout",
     "output_type": "stream",
     "text": [
      "least-squares mse:  0.0024825208489926806 scickit-learn mse:  0.0024824447539838644\n"
     ]
    }
   ],
   "source": [
    "mse_lsq=num.sqrt(num.sum((y_test-y_lsq)**2))/num.size(y_obs)\n",
    "mse_sci=num.sqrt(num.sum((y_test-y_sci)**2))/num.size(y_obs)\n",
    "print('least-squares mse: ', mse_lsq, 'scickit-learn mse: ', mse_sci)"
   ]
  },
  {
   "cell_type": "markdown",
   "id": "81d3f344",
   "metadata": {
    "pycharm": {
     "name": "#%% md\n"
    }
   },
   "source": [
    "Evaluate score for the training and test data\n",
    "$$\n",
    "R^{2}\\left(\\hat{y},y\\right)=1-\\frac{\\sum_{i}^{n}\\left(y_{i}-\\hat{y}_{i}\\right)^{2}}{\\sum_{i}^{n}\\left(y_{i}-<y>\\right)^{2}}\n",
    "$$\n",
    "where\n",
    "$$\n",
    "<y>=\\frac{1}{n}\\sum_{i}^{n}y_{i}\n",
    "$$"
   ]
  },
  {
   "cell_type": "code",
   "execution_count": 124,
   "id": "4b5ea956",
   "metadata": {
    "pycharm": {
     "name": "#%%\n"
    }
   },
   "outputs": [
    {
     "name": "stdout",
     "output_type": "stream",
     "text": [
      "Score training 0.95\n",
      "Score test     0.97\n"
     ]
    }
   ],
   "source": [
    "print('Score training {:.2f}'.format(model.score(x_train[:, num.newaxis],y_train)))\n",
    "print('Score test     {:.2f}'.format(model.score(x_test[:, num.newaxis],y_test)))"
   ]
  },
  {
   "cell_type": "markdown",
   "id": "229e37ce",
   "metadata": {
    "pycharm": {
     "name": "#%% md\n"
    }
   },
   "source": [
    "Evaluate and plot the relative error"
   ]
  },
  {
   "cell_type": "code",
   "execution_count": 125,
   "id": "b6bcc992",
   "metadata": {
    "pycharm": {
     "name": "#%%\n"
    }
   },
   "outputs": [
    {
     "data": {
      "text/plain": "(-1.0, 1.0)"
     },
     "execution_count": 125,
     "metadata": {},
     "output_type": "execute_result"
    },
    {
     "data": {
      "text/plain": "<Figure size 432x288 with 1 Axes>",
      "image/png": "[encoded data removed]"
     },
     "metadata": {
      "needs_background": "light"
     },
     "output_type": "display_data"
    }
   ],
   "source": [
    "rel_err_sci=(y_test-y_sci)/num.max(num.abs(y_test-y_sci))\n",
    "rel_err_lsq=(y_test-y_lsq)/num.max(num.abs(y_test-y_lsq))\n",
    "plt.scatter(x_test, rel_err_lsq, color='#FF7F7F', marker='o')\n",
    "plt.scatter(x_test, rel_err_sci, color='#7F7FFF', marker='o')\n",
    "plt.ylim([-1,1])"
   ]
  },
  {
   "cell_type": "code",
   "execution_count": 126,
   "id": "dd6030d8",
   "metadata": {
    "pycharm": {
     "name": "#%%\n"
    }
   },
   "outputs": [],
   "source": [
    "def PCA(X,Y):\n",
    "    XY=num.vstack((X,Y))\n",
    "    M,N=num.shape(XY)\n",
    "    XY_means = num.mean(XY,axis=1)[:,num.newaxis]\n",
    "    XY_normalized = XY - XY_means\n",
    "    Cov=(1/N)*num.dot(XY_normalized,XY_normalized.T)\n",
    "    L,V=num.linalg.eigh(Cov)\n",
    "    P = num.dot(V.T,XY)\n",
    "    D = num.dot(V[:,1:].T,XY)\n",
    "    W = num.dot(V[:,1:],D)\n",
    "    return L,V,P,W"
   ]
  },
  {
   "cell_type": "code",
   "execution_count": 127,
   "id": "2d1562c2",
   "metadata": {
    "pycharm": {
     "name": "#%%\n"
    }
   },
   "outputs": [],
   "source": [
    "L,V,P,W=PCA(x_train,y_train)\n",
    "c_train=(x_train+1j*y_train)*num.exp(1j*(45*num.pi/180))"
   ]
  },
  {
   "cell_type": "code",
   "execution_count": 128,
   "id": "3d429f35",
   "metadata": {
    "pycharm": {
     "name": "#%%\n"
    }
   },
   "outputs": [
    {
     "name": "stdout",
     "output_type": "stream",
     "text": [
      "(2, 375) (2, 375)\n"
     ]
    },
    {
     "data": {
      "text/plain": "<matplotlib.collections.PathCollection at 0x23f76baf430>"
     },
     "execution_count": 128,
     "metadata": {},
     "output_type": "execute_result"
    },
    {
     "data": {
      "text/plain": "<Figure size 432x288 with 1 Axes>",
      "image/png": "[encoded data removed]"
     },
     "metadata": {
      "needs_background": "light"
     },
     "output_type": "display_data"
    }
   ],
   "source": [
    "print(num.shape(P),num.shape(W))\n",
    "plt.scatter(W[0,:],W[1,:],color='#7F7FFF', marker='o',alpha=0.5)\n",
    "plt.scatter(x_train, y_train, color='#FF7F7F', marker='o',alpha=0.5)"
   ]
  },
  {
   "cell_type": "code",
   "execution_count": 129,
   "id": "2655ff21",
   "metadata": {
    "pycharm": {
     "name": "#%%\n"
    }
   },
   "outputs": [
    {
     "data": {
      "text/plain": "(-10.0, 10.0)"
     },
     "execution_count": 129,
     "metadata": {},
     "output_type": "execute_result"
    },
    {
     "data": {
      "text/plain": "<Figure size 432x288 with 1 Axes>",
      "image/png": "[encoded data removed]"
     },
     "metadata": {
      "needs_background": "light"
     },
     "output_type": "display_data"
    }
   ],
   "source": [
    "plt.scatter(P[0,:],P[1,:],color='#7F7FFF', marker='o',alpha=0.5)\n",
    "plt.scatter(-c_train.real,c_train.imag,color='#FF7F7F', marker='o',alpha=0.5)\n",
    "plt.xlim(-10,10)"
   ]
  },
  {
   "cell_type": "code",
   "execution_count": null,
   "id": "f2de43c7",
   "metadata": {
    "pycharm": {
     "name": "#%%\n"
    }
   },
   "outputs": [],
   "source": []
  },
  {
   "cell_type": "code",
   "execution_count": null,
   "id": "5eeb6060",
   "metadata": {
    "pycharm": {
     "name": "#%%\n"
    }
   },
   "outputs": [],
   "source": []
  }
 ],
 "metadata": {
  "kernelspec": {
   "display_name": "Python 3.8.12 ('base')",
   "language": "python",
   "name": "python3"
  },
  "language_info": {
   "codemirror_mode": {
    "name": "ipython",
    "version": 3
   },
   "file_extension": ".py",
   "mimetype": "text/x-python",
   "name": "python",
   "nbconvert_exporter": "python",
   "pygments_lexer": "ipython3",
   "version": "3.9.12"
  },
  "vscode": {
   "interpreter": {
    "hash": "f3d621fa4f9a80e16284b7d623305a9e7ae666c8ef4ce18ce6e557cf80b4b6ac"
   }
  }
 },
 "nbformat": 4,
 "nbformat_minor": 5
}